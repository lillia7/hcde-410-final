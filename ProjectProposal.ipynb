{
 "cells": [
  {
   "cell_type": "markdown",
   "id": "6e615a11-0785-4e51-9119-1606f0456b75",
   "metadata": {},
   "source": [
    "**Motivation and Problem Statement**\n",
    "\n",
    "The goal of this project is to dive into the data surrounding medicine and diseases globally. With the current state of the world I hope to shed some light on medical data and the impacts of institutional discrimination on the basis of race, gender and international politics on the way countries address pandemics and disease. I think that this would be interesting from a human-centered perspective because it gives a global stance on the medical climate. I hope that through the analysis of this data I can learn how the global climate affects the resolution of international emergencies. \n",
    "\n",
    "**Data**\n",
    "\n",
    "I plan on using the World Health Organization dataset that provides statistics on hunger, health and disease. I chose this dataset because it will provide a large variety of data from different parts of the world and the global emergencies that took place. This dataset is the most suitable for my motivation and goal because it it provides data on medical emergencies that took place all over the world. Some ethical considerations when using the WHO dataset is to make sure that the data is fair and transparent to ensure that the data has a source and that the data doesn't discriminate against specific demographics. Another consideration is that the WHO dataset should respect diversity and cultural differences because the data is coming from diverse communities from all over the world. \n",
    "\n",
    "The World Health Organization's licensing and terms for data use is stated on their website:\n",
    "\"Permission from WHO is not required for the use of WHO materials issued under the Creative Commons Attribution-NonCommercial-ShareAlike 3.0 Intergovernmental Organization (CC BY-NC-SA 3.0 IGO) licence.\"\n",
    "\n",
    "Link to WHO: https://www.who.int/en/\n",
    "Link to WHO Data respository: https://www.who.int/data/gho/data/major-themes/health-emergencies\n",
    "Link to Malaria cases treated with ACT By country from WHO: https://apps.who.int/gho/data/node.main.MALARIAACTTREATED?lang=en\n",
    "Link to People protected by IRS By country from WHO: https://apps.who.int/gho/data/node.main.MALARIAIRSCOVERAGE?lang=en\n",
    "Link to Population with access to an ITN By country from WHO: https://apps.who.int/gho/data/node.main.MALARIAITNCOVERAGE?lang=en\n",
    "\n",
    "**Unknowns**\n",
    "\n",
    "Although I can't think of many unknowns for this project, I do think that since the WHO dataset is constantly evolving, with new data being added and older data being revised or removed. I may need to account for these changes when using the dataset over time. Otherwise I believe that I can get a good analysis for this purpose of this project.\n",
    "\n",
    "**Overview and Research Questions**\n",
    "\n",
    "This data science project aims to shed light on the influence of institutional discrimination based on race, gender, and international politics on the strategies and responses of countries towards pandemics and disease outbreaks. Recognizing the interconnectedness of social structures and public health, this project seeks to explore how systemic biases within institutions can significantly shape the policies, resources, and interventions employed by nations when addressing health crises. By examining data from the World Health Organization (WHO) database, I aspire to uncover patterns, correlations, and disparities that may exist among countries' approaches to combating pandemics, with a particular focus on understanding the nuanced impacts of discrimination on vulnerable populations. The project aims to quantify the disparities in health outcomes and pandemic response measures across countries, considering variables such as race, gender, and political factors. By leveraging WHO data, I can identify countries where institutional discrimination plays a significant role in shaping public health policies, resource allocation, and decision-making processes. Ultimately, this project aspires to contribute to a deeper understanding of the ways in which institutional discrimination can impact the response to pandemics and disease outbreaks. By examining the WHO database, I aim to provide actionable insights that can guide efforts towards mitigating disparities, fostering inclusivity, and promoting equitable healthcare systems on a global scale. \n",
    "\n",
    "**Research Questions:**\n",
    "1. How does institutional discrimination based on race, gender, and international politics affect the allocation of healthcare resources during pandemics and disease outbreaks across different countries?\n",
    "\n",
    "2. What are the correlations between institutional discrimination and disparities in healthcare access, vaccination rates, and health outcomes during pandemics, considering the intersectionality of race and gender?\n",
    "\n",
    "3. What are the specific groups or populations that experience the greatest disparities in healthcare access and treatment during pandemics due to institutional discrimination, and what are the underlying factors contributing to these disparities?\n",
    "\n",
    "4. How do countries with different levels of institutional discrimination compare in terms of their preparedness, response efficiency, and overall effectiveness in managing pandemics and disease outbreaks?\n",
    "\n",
    "5. Are there any notable examples of countries that have successfully addressed institutional discrimination in their pandemic response, leading to improved health outcomes and reduced disparities? What lessons can be learned from these cases?\n",
    "\n",
    "**Background or Related Work**\n",
    "\n",
    "Numerous studies have examined health disparities based on race, gender, and socioeconomic factors. These studies explore how marginalized communities often experience unequal access to healthcare, higher disease burdens, and poorer health outcomes. Investigating the impact of institutional discrimination on health disparities during pandemics would build upon this body of work. Paula Braveman wrote an extensive research paper on the global disparities and health equity that will become useful in this project that I intend to source from.\n",
    "\n",
    "Link to Bravemen article: https://www.annualreviews.org/doi/abs/10.1146/annurev.publhealth.27.021405.102103\n",
    "\n",
    "Research on global health governance examines how political and institutional factors influence the management of global health challenges. Wolfgang Hein has a paper that focuses on global health governance and the effects of institutionalized structures. This will be helpful in exploring that factors that impact global health and health governance in different countries. \n",
    "\n",
    "Link to Hein article:https://www.ncbi.nlm.nih.gov/pmc/articles/PMC7122089/\n",
    "\n",
    "The background research supports the research questions by providing a foundation of knowledge and existing evidence related to the impact of institutional discrimination on health outcomes and healthcare disparities. The research on health disparities based on race, gender, and socioeconomic factors establishes a link between systemic inequities and differential access to healthcare resources and services. This research supports the investigation into how institutional discrimination affects the allocation of healthcare resources during pandemics (Research Question 1) and the disparities in healthcare access and health outcomes (Research Question 2). The understanding of social determinants of health emphasizes the role of social, economic, and political factors in shaping health outcomes. This research area supports the exploration of how institutional discrimination, as a social determinant, influences countries' pandemic response strategies (Research Question 3) and the inclusivity of public health messaging (Research Question 4). Research on public health policy and equity provides insights into how policies can impact marginalized populations and contribute to health disparities (Research Question 5). \n",
    "\n",
    "**Methodology**\n",
    "\n",
    "Comparative analysis will be conducted to assess disparities and differences among countries based on race, gender, and international politics. This analysis may include statistical tests such as chi-square tests or t-tests to examine significant variations in healthcare access, resources, and outcomes across different groups. Correlation analysis will be employed to explore relationships between institutional discrimination and various pandemic response measures. Additionally, regression analysis, such as multiple linear regression, can be utilized to identify the influence of institutional discrimination variables on pandemic response outcomes while controlling for other relevant factors. In addition to quantitative analysis, qualitative content analysis may be used to analyze public health policies, guidelines, and communications. This analysis will involve identifying themes, patterns, and language used in the documents to understand the inclusivity or exclusionary nature of the messaging. \n",
    "\n",
    "Data visualizations, such as bar charts, dot plots, heatmaps, or time series graphs, will be utilized to visually represent patterns, disparities, and trends in the data. These visualizations can help convey complex information in an accessible and intuitive manner, enabling the audience to grasp key insights at a glance. By employing these methods, the research aims to provide a rigorous and comprehensive analysis, offering valuable insights into the relationship between institutional discrimination and pandemic response, and informing potential policy interventions to promote equity and inclusivity in global healthcare systems."
   ]
  },
  {
   "cell_type": "code",
   "execution_count": null,
   "id": "7444314d-e805-445f-84ab-7c0d671c8c8c",
   "metadata": {},
   "outputs": [],
   "source": []
  }
 ],
 "metadata": {
  "kernelspec": {
   "display_name": "Python 3 (ipykernel)",
   "language": "python",
   "name": "python3"
  },
  "language_info": {
   "codemirror_mode": {
    "name": "ipython",
    "version": 3
   },
   "file_extension": ".py",
   "mimetype": "text/x-python",
   "name": "python",
   "nbconvert_exporter": "python",
   "pygments_lexer": "ipython3",
   "version": "3.9.7"
  }
 },
 "nbformat": 4,
 "nbformat_minor": 5
}
